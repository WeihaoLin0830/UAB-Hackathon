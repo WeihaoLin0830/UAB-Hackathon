{
 "cells": [
  {
   "cell_type": "code",
   "execution_count": 15,
   "metadata": {},
   "outputs": [
    {
     "data": {
      "text/html": [
       "<div>\n",
       "<style scoped>\n",
       "    .dataframe tbody tr th:only-of-type {\n",
       "        vertical-align: middle;\n",
       "    }\n",
       "\n",
       "    .dataframe tbody tr th {\n",
       "        vertical-align: top;\n",
       "    }\n",
       "\n",
       "    .dataframe thead th {\n",
       "        text-align: right;\n",
       "    }\n",
       "</style>\n",
       "<table border=\"1\" class=\"dataframe\">\n",
       "  <thead>\n",
       "    <tr style=\"text-align: right;\">\n",
       "      <th></th>\n",
       "      <th>mes_hecho</th>\n",
       "      <th>fecha_hecho</th>\n",
       "      <th>delito</th>\n",
       "      <th>categoria_delito</th>\n",
       "      <th>latitud</th>\n",
       "      <th>longitud</th>\n",
       "      <th>delito_encoded</th>\n",
       "      <th>categoria_delito_encoded</th>\n",
       "      <th>time_seconds</th>\n",
       "      <th>time_zones</th>\n",
       "      <th>cluster_label</th>\n",
       "    </tr>\n",
       "  </thead>\n",
       "  <tbody>\n",
       "    <tr>\n",
       "      <th>0</th>\n",
       "      <td>3</td>\n",
       "      <td>2083</td>\n",
       "      <td>ALLANAMIENTO DE MORADA, DESPACHO, OFICINA O ES...</td>\n",
       "      <td>DELITO DE BAJO IMPACTO</td>\n",
       "      <td>19.429890</td>\n",
       "      <td>-99.053063</td>\n",
       "      <td>6</td>\n",
       "      <td>0</td>\n",
       "      <td>9600.0</td>\n",
       "      <td>3</td>\n",
       "      <td>-1</td>\n",
       "    </tr>\n",
       "    <tr>\n",
       "      <th>1</th>\n",
       "      <td>3</td>\n",
       "      <td>2083</td>\n",
       "      <td>ROBO A CASA HABITACION SIN VIOLENCIA</td>\n",
       "      <td>DELITO DE BAJO IMPACTO</td>\n",
       "      <td>19.334924</td>\n",
       "      <td>-99.134299</td>\n",
       "      <td>118</td>\n",
       "      <td>0</td>\n",
       "      <td>5400.0</td>\n",
       "      <td>3</td>\n",
       "      <td>-1</td>\n",
       "    </tr>\n",
       "    <tr>\n",
       "      <th>2</th>\n",
       "      <td>3</td>\n",
       "      <td>2083</td>\n",
       "      <td>ROBO DE ACCESORIOS DE AUTO</td>\n",
       "      <td>DELITO DE BAJO IMPACTO</td>\n",
       "      <td>19.406539</td>\n",
       "      <td>-99.127682</td>\n",
       "      <td>174</td>\n",
       "      <td>0</td>\n",
       "      <td>9000.0</td>\n",
       "      <td>3</td>\n",
       "      <td>-1</td>\n",
       "    </tr>\n",
       "    <tr>\n",
       "      <th>3</th>\n",
       "      <td>3</td>\n",
       "      <td>2083</td>\n",
       "      <td>ROBO DE VEHICULO DE SERVICIO PARTICULAR SIN VI...</td>\n",
       "      <td>ROBO DE VEHÃCULO CON Y SIN VIOLENCIA</td>\n",
       "      <td>19.279583</td>\n",
       "      <td>-99.217773</td>\n",
       "      <td>197</td>\n",
       "      <td>12</td>\n",
       "      <td>7200.0</td>\n",
       "      <td>3</td>\n",
       "      <td>-1</td>\n",
       "    </tr>\n",
       "    <tr>\n",
       "      <th>4</th>\n",
       "      <td>3</td>\n",
       "      <td>2083</td>\n",
       "      <td>ROBO A TRANSEUNTE EN VIA PUBLICA CON VIOLENCIA</td>\n",
       "      <td>ROBO A TRANSEUNTE EN VÃA PÃBLICA CON Y SIN V...</td>\n",
       "      <td>19.288396</td>\n",
       "      <td>-99.053909</td>\n",
       "      <td>168</td>\n",
       "      <td>10</td>\n",
       "      <td>12600.0</td>\n",
       "      <td>3</td>\n",
       "      <td>-1</td>\n",
       "    </tr>\n",
       "  </tbody>\n",
       "</table>\n",
       "</div>"
      ],
      "text/plain": [
       "   mes_hecho  fecha_hecho                                             delito  \\\n",
       "0          3         2083  ALLANAMIENTO DE MORADA, DESPACHO, OFICINA O ES...   \n",
       "1          3         2083               ROBO A CASA HABITACION SIN VIOLENCIA   \n",
       "2          3         2083                         ROBO DE ACCESORIOS DE AUTO   \n",
       "3          3         2083  ROBO DE VEHICULO DE SERVICIO PARTICULAR SIN VI...   \n",
       "4          3         2083     ROBO A TRANSEUNTE EN VIA PUBLICA CON VIOLENCIA   \n",
       "\n",
       "                                    categoria_delito    latitud   longitud  \\\n",
       "0                             DELITO DE BAJO IMPACTO  19.429890 -99.053063   \n",
       "1                             DELITO DE BAJO IMPACTO  19.334924 -99.134299   \n",
       "2                             DELITO DE BAJO IMPACTO  19.406539 -99.127682   \n",
       "3              ROBO DE VEHÃCULO CON Y SIN VIOLENCIA  19.279583 -99.217773   \n",
       "4  ROBO A TRANSEUNTE EN VÃA PÃBLICA CON Y SIN V...  19.288396 -99.053909   \n",
       "\n",
       "   delito_encoded  categoria_delito_encoded  time_seconds  time_zones  \\\n",
       "0               6                         0        9600.0           3   \n",
       "1             118                         0        5400.0           3   \n",
       "2             174                         0        9000.0           3   \n",
       "3             197                        12        7200.0           3   \n",
       "4             168                        10       12600.0           3   \n",
       "\n",
       "   cluster_label  \n",
       "0             -1  \n",
       "1             -1  \n",
       "2             -1  \n",
       "3             -1  \n",
       "4             -1  "
      ]
     },
     "metadata": {},
     "output_type": "display_data"
    }
   ],
   "source": [
    "import pandas as pd\n",
    "\n",
    "# df_crims = pd.read_csv('CMX_2024.csv')\n",
    "\n",
    "# Segun hora del dia\n",
    "daytime = 12\n",
    "\n",
    "if daytime >= 0 and daytime < 5:\n",
    "    df_crims = pd.read_csv('CMX_madrugada.csv')\n",
    "elif daytime >= 5 and daytime < 10:\n",
    "    df_crims = pd.read_csv('CMX_mañana.csv')\n",
    "elif daytime >= 10 and daytime < 13:\n",
    "    df_crims = pd.read_csv('CMX_mediodia.csv')\n",
    "elif daytime >= 13 and daytime < 17:\n",
    "    df_crims = pd.read_csv('CMX_tarde.csv')\n",
    "elif daytime >= 17 and daytime < 21:\n",
    "    df_crims = pd.read_csv('CMX_noche.csv')\n",
    "elif daytime >= 21 and daytime < 24:\n",
    "    df_crims = pd.read_csv('CMX_medianoche.csv')\n",
    "\n",
    "display(df_crims.head())"
   ]
  },
  {
   "cell_type": "code",
   "execution_count": 16,
   "metadata": {},
   "outputs": [
    {
     "data": {
      "text/plain": [
       "(0, 11)"
      ]
     },
     "metadata": {},
     "output_type": "display_data"
    },
    {
     "data": {
      "text/plain": [
       "(0, 11)"
      ]
     },
     "metadata": {},
     "output_type": "display_data"
    },
    {
     "data": {
      "text/plain": [
       "(0, 11)"
      ]
     },
     "metadata": {},
     "output_type": "display_data"
    },
    {
     "data": {
      "text/plain": [
       "Series([], Name: count, dtype: int64)"
      ]
     },
     "metadata": {},
     "output_type": "display_data"
    }
   ],
   "source": [
    "from datetime import datetime\n",
    "import nltk\n",
    "\n",
    "# Convert 'fecha_hecho' to datetime\n",
    "df_crims['fecha_hecho'] = pd.to_datetime(df_crims['fecha_hecho'])\n",
    "\n",
    "df_last_year = df_crims[df_crims['fecha_hecho'].dt.year == 2024]\n",
    "df_delict = df_last_year[df_last_year['categoria_delito'] != 'HECHO NO DELICTIVO']\n",
    "\n",
    "df_bajo_impacto = df_delict[df_delict['categoria_delito'] == 'DELITO DE BAJO IMPACTO']\n",
    "small_delicts = df_bajo_impacto['delito'].value_counts()\n",
    "filtered_delicts = small_delicts[small_delicts.index.str.contains('ROBO|ACOSO|HOMICICIO|PANDILLA', case=False)]\n",
    "\n",
    "display(df_delict.shape)\n",
    "# Filter out the delicts that are NOT in the filtered_delicts list\n",
    "df_delict = df_delict[~((df_delict['categoria_delito'] == 'DELITO DE BAJO IMPACTO') & (~df_delict['delito'].isin(filtered_delicts.index)))]\n",
    "display(df_delict.shape)\n",
    "\n",
    "df_delict = df_delict.dropna(subset=['latitud', 'longitud'])\n",
    "display(df_delict.shape)\n",
    "\n",
    "\n",
    "#df_crimes = df_delict[['delito', 'longitud', 'latitud']]\n",
    "\n",
    "display(df_delict['categoria_delito'].value_counts())"
   ]
  },
  {
   "cell_type": "code",
   "execution_count": 17,
   "metadata": {},
   "outputs": [
    {
     "data": {
      "text/plain": [
       "Series([], Name: count, dtype: int64)"
      ]
     },
     "metadata": {},
     "output_type": "display_data"
    }
   ],
   "source": [
    "crime_category_to_weight = {\n",
    "    'DELITO DE BAJO IMPACTO': 1,\n",
    "    'ROBO A TRANSEUNTE EN VÍA PÚBLICA CON Y SIN VIOLENCIA': 3,\n",
    "    'ROBO DE VEHÍCULO CON Y SIN VIOLENCIA': 2,\n",
    "    'ROBO A NEGOCIO CON VIOLENCIA': 3,\n",
    "    'VIOLACIÓN': 4,\n",
    "    'ROBO A PASAJERO A BORDO DEL METRO CON Y SIN VIOLENCIA': 2,\n",
    "    'HOMICIDIO DOLOSO': 5,\n",
    "    'ROBO A REPARTIDOR CON Y SIN VIOLENCIA': 3,\n",
    "    'ROBO A PASAJERO A BORDO DE MICROBÚS CON Y SIN VIOLENCIA': 2,\n",
    "    'LESIONES DOLOSAS POR DISPARO DE ARMA DE FUEGO': 4,\n",
    "    'ROBO A CASA HABITACIÓN CON VIOLENCIA': 3,\n",
    "    'ROBO A CUENTAHABIENTE SALIENDO DEL CAJERO CON VIOLENCIA': 3,\n",
    "    'ROBO A PASAJERO A BORDO DE TAXI CON VIOLENCIA': 3,\n",
    "    'ROBO A TRANSPORTISTA CON Y SIN VIOLENCIA': 2,\n",
    "    'SECUESTRO': 5\n",
    "}\n",
    "\n",
    "df_crimes_with_weight = df_delict.copy()\n",
    "df_crimes_with_weight['weight'] = df_crimes_with_weight['categoria_delito'].map(crime_category_to_weight)\n",
    "df_crimes_with_weight['weight'] = df_crimes_with_weight['weight'].fillna(1)\n",
    "\n",
    "display(df_crimes_with_weight['weight'].value_counts())"
   ]
  },
  {
   "cell_type": "code",
   "execution_count": 18,
   "metadata": {},
   "outputs": [
    {
     "data": {
      "text/plain": [
       "Series([], Name: count, dtype: int64)"
      ]
     },
     "metadata": {},
     "output_type": "display_data"
    }
   ],
   "source": [
    "df_ponderado = df_crimes_with_weight[['delito', 'categoria_delito', 'longitud', 'latitud', 'weight']]\n",
    "df_ponderado.loc[df_ponderado['delito'].str.contains('CON', case=True), 'weight'] += 0.5\n",
    "\n",
    "df_weights = df_ponderado[['latitud','longitud','weight']]\n",
    "df_weights\n",
    "display(df_weights['weight'].value_counts())"
   ]
  },
  {
   "cell_type": "code",
   "execution_count": 19,
   "metadata": {},
   "outputs": [],
   "source": [
    "import geojson\n",
    "from geojson import Feature, FeatureCollection, Point\n",
    "\n",
    "def df_to_geojson(df):\n",
    "    features = []\n",
    "    for _, row in df.iterrows():\n",
    "        if not pd.isna(row['latitud']) and not pd.isna(row['longitud']):\n",
    "            point = Point((row['longitud'], row['latitud']))\n",
    "            features.append(\n",
    "                Feature(geometry=point, properties={\"weight\": row['weight']})\n",
    "            )\n",
    "    return FeatureCollection(features)\n",
    "\n",
    "geojson_data = df_to_geojson(df_weights)\n",
    "\n",
    "# Save to a GeoJSON file\n",
    "with open('crimes.geojson', 'w') as f:\n",
    "    geojson.dump(geojson_data, f)"
   ]
  },
  {
   "cell_type": "code",
   "execution_count": 20,
   "metadata": {},
   "outputs": [],
   "source": [
    "def filter_geojson_by_coordinates(geojson_data, lat_min, lat_max, lon_min, lon_max):\n",
    "    filtered_features = []\n",
    "    for feature in geojson_data['features']:\n",
    "        lon, lat = feature['geometry']['coordinates']\n",
    "        if lat_min <= lat <= lat_max and lon_min <= lon <= lon_max:\n",
    "            filtered_features.append(feature)\n",
    "    \n",
    "    return geojson.FeatureCollection(filtered_features)\n",
    "\n",
    "# Example usage\n",
    "lat_min, lat_max = 19.0, 20.0\n",
    "lon_min, lon_max = -100.0, -98.0\n",
    "filtered_geojson_data = filter_geojson_by_coordinates(geojson_data, lat_min, lat_max, lon_min, lon_max)\n",
    "\n",
    "# Save the filtered GeoJSON to a new file\n",
    "with open('filtered_crimes.geojson', 'w') as f:\n",
    "    geojson.dump(filtered_geojson_data, f)"
   ]
  },
  {
   "cell_type": "code",
   "execution_count": 21,
   "metadata": {},
   "outputs": [
    {
     "data": {
      "text/plain": [
       "<folium.features.GeoJson at 0x7fbcb170ebc0>"
      ]
     },
     "execution_count": 21,
     "metadata": {},
     "output_type": "execute_result"
    }
   ],
   "source": [
    "import folium\n",
    "\n",
    "# Crear un mapa centrado en el área filtrada\n",
    "center_lat = (lat_min + lat_max) / 2\n",
    "center_lon = (lon_min + lon_max) / 2\n",
    "m = folium.Map(location=[center_lat, center_lon], zoom_start=10)\n",
    "\n",
    "# Añadir el archivo GeoJSON al mapa\n",
    "folium.GeoJson('filtered_crimes.geojson').add_to(m)\n",
    "\n",
    "# Mostrar el mapa\n"
   ]
  },
  {
   "cell_type": "code",
   "execution_count": 22,
   "metadata": {},
   "outputs": [],
   "source": [
    "import folium\n",
    "\n",
    "def visualize_map(df):\n",
    "    # Create a map centered around the average latitude and longitude\n",
    "    m = folium.Map(location=[df['latitud'].mean(), df['longitud'].mean()], zoom_start=12)\n",
    "    \n",
    "    # Add points to the map\n",
    "    for _, row in df.iterrows():\n",
    "        if not pd.isna(row['latitud']) and not pd.isna(row['longitud']):\n",
    "            folium.Marker(\n",
    "                location=[row['latitud'], row['longitud']],\n",
    "                popup=row['delito'],\n",
    "                tooltip=row['categoria_delito']\n",
    "            ).add_to(m)\n",
    "    \n",
    "    return m\n",
    "\n",
    "# Example usage\n",
    "map_visualization = visualize_map(df_crims)\n",
    "map_visualization"
   ]
  }
 ],
 "metadata": {
  "kernelspec": {
   "display_name": "Python 3",
   "language": "python",
   "name": "python3"
  },
  "language_info": {
   "codemirror_mode": {
    "name": "ipython",
    "version": 3
   },
   "file_extension": ".py",
   "mimetype": "text/x-python",
   "name": "python",
   "nbconvert_exporter": "python",
   "pygments_lexer": "ipython3",
   "version": "3.10.12"
  }
 },
 "nbformat": 4,
 "nbformat_minor": 2
}
