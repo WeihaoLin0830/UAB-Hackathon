{
 "cells": [
  {
   "cell_type": "code",
   "execution_count": 2,
   "metadata": {},
   "outputs": [
    {
     "data": {
      "text/html": [
       "<div>\n",
       "<style scoped>\n",
       "    .dataframe tbody tr th:only-of-type {\n",
       "        vertical-align: middle;\n",
       "    }\n",
       "\n",
       "    .dataframe tbody tr th {\n",
       "        vertical-align: top;\n",
       "    }\n",
       "\n",
       "    .dataframe thead th {\n",
       "        text-align: right;\n",
       "    }\n",
       "</style>\n",
       "<table border=\"1\" class=\"dataframe\">\n",
       "  <thead>\n",
       "    <tr style=\"text-align: right;\">\n",
       "      <th></th>\n",
       "      <th>anio_inicio</th>\n",
       "      <th>mes_inicio</th>\n",
       "      <th>fecha_inicio</th>\n",
       "      <th>hora_inicio</th>\n",
       "      <th>anio_hecho</th>\n",
       "      <th>mes_hecho</th>\n",
       "      <th>fecha_hecho</th>\n",
       "      <th>hora_hecho</th>\n",
       "      <th>delito</th>\n",
       "      <th>categoria_delito</th>\n",
       "      <th>...</th>\n",
       "      <th>fiscalia</th>\n",
       "      <th>agencia</th>\n",
       "      <th>unidad_investigacion</th>\n",
       "      <th>colonia_hecho</th>\n",
       "      <th>colonia_catalogo</th>\n",
       "      <th>alcaldia_hecho</th>\n",
       "      <th>alcaldia_catalogo</th>\n",
       "      <th>municipio_hecho</th>\n",
       "      <th>latitud</th>\n",
       "      <th>longitud</th>\n",
       "    </tr>\n",
       "  </thead>\n",
       "  <tbody>\n",
       "    <tr>\n",
       "      <th>0</th>\n",
       "      <td>2024</td>\n",
       "      <td>Enero</td>\n",
       "      <td>2024-01-01</td>\n",
       "      <td>00:20:00</td>\n",
       "      <td>2024.0</td>\n",
       "      <td>Enero</td>\n",
       "      <td>2024-01-01</td>\n",
       "      <td>00:20:00</td>\n",
       "      <td>PERDIDA DE LA VIDA POR OTRAS CAUSAS</td>\n",
       "      <td>HECHO NO DELICTIVO</td>\n",
       "      <td>...</td>\n",
       "      <td>FISCALÍA DE INVESTIGACIÓN TERRITORIAL EN TLALPAN</td>\n",
       "      <td>UAT-TLP-3</td>\n",
       "      <td>UI-1SD</td>\n",
       "      <td>SAN MIGUEL TOPILEJO</td>\n",
       "      <td>Pueblo San Miguel Topilejo</td>\n",
       "      <td>TLALPAN</td>\n",
       "      <td>Tlalpan</td>\n",
       "      <td>CDMX</td>\n",
       "      <td>19.198611</td>\n",
       "      <td>-99.140064</td>\n",
       "    </tr>\n",
       "    <tr>\n",
       "      <th>1</th>\n",
       "      <td>2024</td>\n",
       "      <td>Enero</td>\n",
       "      <td>2024-01-01</td>\n",
       "      <td>01:12:00</td>\n",
       "      <td>2023.0</td>\n",
       "      <td>Diciembre</td>\n",
       "      <td>2023-12-28</td>\n",
       "      <td>21:45:00</td>\n",
       "      <td>HOMICIDIO CULPOSO POR TRÁNSITO VEHICULAR (COLI...</td>\n",
       "      <td>DELITO DE BAJO IMPACTO</td>\n",
       "      <td>...</td>\n",
       "      <td>FISCALÍA DE INVESTIGACIÓN TERRITORIAL EN AZCAP...</td>\n",
       "      <td>UAT-AZ-4</td>\n",
       "      <td>UI-2SD</td>\n",
       "      <td>AERONÁUTICA MILITAR</td>\n",
       "      <td>Aeronautica Militar</td>\n",
       "      <td>VENUSTIANO CARRANZA</td>\n",
       "      <td>Venustiano Carranza</td>\n",
       "      <td>CDMX</td>\n",
       "      <td>19.420629</td>\n",
       "      <td>-99.115402</td>\n",
       "    </tr>\n",
       "    <tr>\n",
       "      <th>2</th>\n",
       "      <td>2024</td>\n",
       "      <td>Enero</td>\n",
       "      <td>2024-01-01</td>\n",
       "      <td>01:14:00</td>\n",
       "      <td>2023.0</td>\n",
       "      <td>Diciembre</td>\n",
       "      <td>2023-12-31</td>\n",
       "      <td>23:00:00</td>\n",
       "      <td>PERDIDA DE LA VIDA POR CAIDA</td>\n",
       "      <td>HECHO NO DELICTIVO</td>\n",
       "      <td>...</td>\n",
       "      <td>FISCALÍA DE INVESTIGACIÓN TERRITORIAL EN IZTAP...</td>\n",
       "      <td>UAT-IZP-5</td>\n",
       "      <td>1 SIN DETENIDO</td>\n",
       "      <td>OJITO DE AGUA</td>\n",
       "      <td>Pueblo Santa Maria Aztahuacan</td>\n",
       "      <td>IZTAPALAPA</td>\n",
       "      <td>Iztapalapa</td>\n",
       "      <td>CDMX</td>\n",
       "      <td>19.347257</td>\n",
       "      <td>-99.024526</td>\n",
       "    </tr>\n",
       "    <tr>\n",
       "      <th>3</th>\n",
       "      <td>2024</td>\n",
       "      <td>Enero</td>\n",
       "      <td>2024-01-01</td>\n",
       "      <td>02:29:00</td>\n",
       "      <td>2023.0</td>\n",
       "      <td>Diciembre</td>\n",
       "      <td>2023-12-31</td>\n",
       "      <td>23:50:00</td>\n",
       "      <td>ROBO EN EVENTOS MASIVOS (DEPORTIVOS, CULTURALE...</td>\n",
       "      <td>DELITO DE BAJO IMPACTO</td>\n",
       "      <td>...</td>\n",
       "      <td>FISCALÍA DE INVESTIGACIÓN TERRITORIAL EN CUAUH...</td>\n",
       "      <td>UAT-CUH-6</td>\n",
       "      <td>UI-1SD</td>\n",
       "      <td>CENTRO</td>\n",
       "      <td>Centro</td>\n",
       "      <td>CUAUHTEMOC</td>\n",
       "      <td>Cuauhtémoc</td>\n",
       "      <td>CDMX</td>\n",
       "      <td>19.434052</td>\n",
       "      <td>-99.134837</td>\n",
       "    </tr>\n",
       "    <tr>\n",
       "      <th>4</th>\n",
       "      <td>2024</td>\n",
       "      <td>Enero</td>\n",
       "      <td>2024-01-01</td>\n",
       "      <td>03:26:00</td>\n",
       "      <td>2024.0</td>\n",
       "      <td>Enero</td>\n",
       "      <td>2024-01-01</td>\n",
       "      <td>02:10:00</td>\n",
       "      <td>PERDIDA DE LA VIDA POR PARO CARDIACO</td>\n",
       "      <td>HECHO NO DELICTIVO</td>\n",
       "      <td>...</td>\n",
       "      <td>FISCALÍA DE INVESTIGACIÓN TERRITORIAL EN MAGDA...</td>\n",
       "      <td>UAT-MC-2</td>\n",
       "      <td>UI-1SD</td>\n",
       "      <td>LOMAS DE SAN BERNABÉ</td>\n",
       "      <td>Lomas De San Bernabe</td>\n",
       "      <td>LA MAGDALENA CONTRERAS</td>\n",
       "      <td>La Magdalena Contreras</td>\n",
       "      <td>CDMX</td>\n",
       "      <td>19.314159</td>\n",
       "      <td>-99.263989</td>\n",
       "    </tr>\n",
       "  </tbody>\n",
       "</table>\n",
       "<p>5 rows × 21 columns</p>\n",
       "</div>"
      ],
      "text/plain": [
       "   anio_inicio mes_inicio fecha_inicio hora_inicio  anio_hecho  mes_hecho  \\\n",
       "0         2024      Enero   2024-01-01    00:20:00      2024.0      Enero   \n",
       "1         2024      Enero   2024-01-01    01:12:00      2023.0  Diciembre   \n",
       "2         2024      Enero   2024-01-01    01:14:00      2023.0  Diciembre   \n",
       "3         2024      Enero   2024-01-01    02:29:00      2023.0  Diciembre   \n",
       "4         2024      Enero   2024-01-01    03:26:00      2024.0      Enero   \n",
       "\n",
       "  fecha_hecho hora_hecho                                             delito  \\\n",
       "0  2024-01-01   00:20:00                PERDIDA DE LA VIDA POR OTRAS CAUSAS   \n",
       "1  2023-12-28   21:45:00  HOMICIDIO CULPOSO POR TRÁNSITO VEHICULAR (COLI...   \n",
       "2  2023-12-31   23:00:00                       PERDIDA DE LA VIDA POR CAIDA   \n",
       "3  2023-12-31   23:50:00  ROBO EN EVENTOS MASIVOS (DEPORTIVOS, CULTURALE...   \n",
       "4  2024-01-01   02:10:00               PERDIDA DE LA VIDA POR PARO CARDIACO   \n",
       "\n",
       "         categoria_delito  ...  \\\n",
       "0      HECHO NO DELICTIVO  ...   \n",
       "1  DELITO DE BAJO IMPACTO  ...   \n",
       "2      HECHO NO DELICTIVO  ...   \n",
       "3  DELITO DE BAJO IMPACTO  ...   \n",
       "4      HECHO NO DELICTIVO  ...   \n",
       "\n",
       "                                            fiscalia    agencia  \\\n",
       "0   FISCALÍA DE INVESTIGACIÓN TERRITORIAL EN TLALPAN  UAT-TLP-3   \n",
       "1  FISCALÍA DE INVESTIGACIÓN TERRITORIAL EN AZCAP...   UAT-AZ-4   \n",
       "2  FISCALÍA DE INVESTIGACIÓN TERRITORIAL EN IZTAP...  UAT-IZP-5   \n",
       "3  FISCALÍA DE INVESTIGACIÓN TERRITORIAL EN CUAUH...  UAT-CUH-6   \n",
       "4  FISCALÍA DE INVESTIGACIÓN TERRITORIAL EN MAGDA...   UAT-MC-2   \n",
       "\n",
       "  unidad_investigacion         colonia_hecho               colonia_catalogo  \\\n",
       "0               UI-1SD   SAN MIGUEL TOPILEJO     Pueblo San Miguel Topilejo   \n",
       "1               UI-2SD   AERONÁUTICA MILITAR            Aeronautica Militar   \n",
       "2       1 SIN DETENIDO         OJITO DE AGUA  Pueblo Santa Maria Aztahuacan   \n",
       "3               UI-1SD                CENTRO                         Centro   \n",
       "4               UI-1SD  LOMAS DE SAN BERNABÉ           Lomas De San Bernabe   \n",
       "\n",
       "           alcaldia_hecho       alcaldia_catalogo municipio_hecho    latitud  \\\n",
       "0                 TLALPAN                 Tlalpan            CDMX  19.198611   \n",
       "1     VENUSTIANO CARRANZA     Venustiano Carranza            CDMX  19.420629   \n",
       "2              IZTAPALAPA              Iztapalapa            CDMX  19.347257   \n",
       "3              CUAUHTEMOC              Cuauhtémoc            CDMX  19.434052   \n",
       "4  LA MAGDALENA CONTRERAS  La Magdalena Contreras            CDMX  19.314159   \n",
       "\n",
       "    longitud  \n",
       "0 -99.140064  \n",
       "1 -99.115402  \n",
       "2 -99.024526  \n",
       "3 -99.134837  \n",
       "4 -99.263989  \n",
       "\n",
       "[5 rows x 21 columns]"
      ]
     },
     "metadata": {},
     "output_type": "display_data"
    }
   ],
   "source": [
    "import pandas as pd\n",
    "\n",
    "df_crims = pd.read_csv('CMX_2024.csv')\n",
    "\n",
    "display(df_crims.head())"
   ]
  },
  {
   "cell_type": "code",
   "execution_count": 3,
   "metadata": {},
   "outputs": [
    {
     "data": {
      "text/plain": [
       "(119666, 21)"
      ]
     },
     "metadata": {},
     "output_type": "display_data"
    },
    {
     "data": {
      "text/plain": [
       "(41007, 21)"
      ]
     },
     "metadata": {},
     "output_type": "display_data"
    },
    {
     "data": {
      "text/plain": [
       "(38989, 21)"
      ]
     },
     "metadata": {},
     "output_type": "display_data"
    },
    {
     "data": {
      "text/plain": [
       "categoria_delito\n",
       "DELITO DE BAJO IMPACTO                                     27610\n",
       "ROBO A TRANSEUNTE EN VÍA PÚBLICA CON Y SIN VIOLENCIA        4125\n",
       "ROBO DE VEHÍCULO CON Y SIN VIOLENCIA                        3355\n",
       "ROBO A NEGOCIO CON VIOLENCIA                                 993\n",
       "VIOLACIÓN                                                    853\n",
       "ROBO A PASAJERO A BORDO DEL METRO CON Y SIN VIOLENCIA        542\n",
       "HOMICIDIO DOLOSO                                             481\n",
       "ROBO A REPARTIDOR CON Y SIN VIOLENCIA                        358\n",
       "ROBO A PASAJERO A BORDO DE MICROBUS CON Y SIN VIOLENCIA      196\n",
       "LESIONES DOLOSAS POR DISPARO DE ARMA DE FUEGO                190\n",
       "ROBO A CASA HABITACIÓN CON VIOLENCIA                         120\n",
       "ROBO A CUENTAHABIENTE SALIENDO DEL CAJERO CON VIOLENCIA       76\n",
       "ROBO A PASAJERO A BORDO DE TAXI CON VIOLENCIA                 72\n",
       "ROBO A TRANSPORTISTA CON Y SIN VIOLENCIA                      12\n",
       "SECUESTRO                                                      6\n",
       "Name: count, dtype: int64"
      ]
     },
     "metadata": {},
     "output_type": "display_data"
    }
   ],
   "source": [
    "from datetime import datetime\n",
    "import nltk\n",
    "\n",
    "# Convert 'fecha_hecho' to datetime\n",
    "df_crims['fecha_hecho'] = pd.to_datetime(df_crims['fecha_hecho'])\n",
    "\n",
    "df_last_year = df_crims[df_crims['fecha_hecho'].dt.year == 2024]\n",
    "df_delict = df_last_year[df_last_year['categoria_delito'] != 'HECHO NO DELICTIVO']\n",
    "\n",
    "df_bajo_impacto = df_delict[df_delict['categoria_delito'] == 'DELITO DE BAJO IMPACTO']\n",
    "small_delicts = df_bajo_impacto['delito'].value_counts()\n",
    "filtered_delicts = small_delicts[small_delicts.index.str.contains('ROBO|ACOSO|HOMICICIO|PANDILLA', case=False)]\n",
    "\n",
    "display(df_delict.shape)\n",
    "# Filter out the delicts that are NOT in the filtered_delicts list\n",
    "df_delict = df_delict[~((df_delict['categoria_delito'] == 'DELITO DE BAJO IMPACTO') & (~df_delict['delito'].isin(filtered_delicts.index)))]\n",
    "display(df_delict.shape)\n",
    "\n",
    "df_delict = df_delict.dropna(subset=['latitud', 'longitud'])\n",
    "display(df_delict.shape)\n",
    "\n",
    "\n",
    "#df_crimes = df_delict[['delito', 'longitud', 'latitud']]\n",
    "\n",
    "display(df_delict['categoria_delito'].value_counts())"
   ]
  },
  {
   "cell_type": "code",
   "execution_count": 4,
   "metadata": {},
   "outputs": [
    {
     "data": {
      "text/plain": [
       "weight\n",
       "1.0    27806\n",
       "3.0     5744\n",
       "2.0     3909\n",
       "4.0     1043\n",
       "5.0      487\n",
       "Name: count, dtype: int64"
      ]
     },
     "metadata": {},
     "output_type": "display_data"
    }
   ],
   "source": [
    "crime_category_to_weight = {\n",
    "    'DELITO DE BAJO IMPACTO': 1,\n",
    "    'ROBO A TRANSEUNTE EN VÍA PÚBLICA CON Y SIN VIOLENCIA': 3,\n",
    "    'ROBO DE VEHÍCULO CON Y SIN VIOLENCIA': 2,\n",
    "    'ROBO A NEGOCIO CON VIOLENCIA': 3,\n",
    "    'VIOLACIÓN': 4,\n",
    "    'ROBO A PASAJERO A BORDO DEL METRO CON Y SIN VIOLENCIA': 2,\n",
    "    'HOMICIDIO DOLOSO': 5,\n",
    "    'ROBO A REPARTIDOR CON Y SIN VIOLENCIA': 3,\n",
    "    'ROBO A PASAJERO A BORDO DE MICROBÚS CON Y SIN VIOLENCIA': 2,\n",
    "    'LESIONES DOLOSAS POR DISPARO DE ARMA DE FUEGO': 4,\n",
    "    'ROBO A CASA HABITACIÓN CON VIOLENCIA': 3,\n",
    "    'ROBO A CUENTAHABIENTE SALIENDO DEL CAJERO CON VIOLENCIA': 3,\n",
    "    'ROBO A PASAJERO A BORDO DE TAXI CON VIOLENCIA': 3,\n",
    "    'ROBO A TRANSPORTISTA CON Y SIN VIOLENCIA': 2,\n",
    "    'SECUESTRO': 5\n",
    "}\n",
    "\n",
    "df_crimes_with_weight = df_delict.copy()\n",
    "df_crimes_with_weight['weight'] = df_crimes_with_weight['categoria_delito'].map(crime_category_to_weight)\n",
    "df_crimes_with_weight['weight'] = df_crimes_with_weight['weight'].fillna(1)\n",
    "\n",
    "display(df_crimes_with_weight['weight'].value_counts())"
   ]
  },
  {
   "cell_type": "code",
   "execution_count": null,
   "metadata": {},
   "outputs": [
    {
     "name": "stderr",
     "output_type": "stream",
     "text": [
      "C:\\Users\\11ser\\AppData\\Local\\Temp\\ipykernel_17720\\3263705237.py:9: SettingWithCopyWarning: \n",
      "A value is trying to be set on a copy of a slice from a DataFrame.\n",
      "Try using .loc[row_indexer,col_indexer] = value instead\n",
      "\n",
      "See the caveats in the documentation: https://pandas.pydata.org/pandas-docs/stable/user_guide/indexing.html#returning-a-view-versus-a-copy\n",
      "  df_weights['weight'] = scaler.fit_transform(df_weights[['weight']]).flatten()\n"
     ]
    },
    {
     "data": {
      "text/plain": [
       "weight\n",
       "0.000    25016\n",
       "0.625     4810\n",
       "0.250     3155\n",
       "0.125     2790\n",
       "0.750     1020\n",
       "0.500      934\n",
       "0.375      754\n",
       "1.000      487\n",
       "0.875       23\n",
       "Name: count, dtype: int64"
      ]
     },
     "metadata": {},
     "output_type": "display_data"
    }
   ],
   "source": [
    "df_ponderado = df_crimes_with_weight[['delito', 'categoria_delito', 'longitud', 'latitud', 'weight']]\n",
    "df_ponderado.loc[df_ponderado['delito'].str.contains('CON', case=True), 'weight'] += 0.5\n",
    "\n",
    "df_weights = df_ponderado[['latitud','longitud','weight']]\n",
    "\n",
    "df_weights['weight'] = df_weights['weight'].apply(lambda x: int(x)/5)\n",
    "display(df_weights['weight'].value_counts())"
   ]
  },
  {
   "cell_type": "code",
   "execution_count": 60,
   "metadata": {},
   "outputs": [
    {
     "ename": "KeyboardInterrupt",
     "evalue": "",
     "output_type": "error",
     "traceback": [
      "\u001b[1;31m---------------------------------------------------------------------------\u001b[0m",
      "\u001b[1;31mKeyboardInterrupt\u001b[0m                         Traceback (most recent call last)",
      "Cell \u001b[1;32mIn[60], line 14\u001b[0m\n\u001b[0;32m      9\u001b[0m             features\u001b[38;5;241m.\u001b[39mappend(\n\u001b[0;32m     10\u001b[0m                 Feature(geometry\u001b[38;5;241m=\u001b[39mpoint, properties\u001b[38;5;241m=\u001b[39m{\u001b[38;5;124m\"\u001b[39m\u001b[38;5;124mweight\u001b[39m\u001b[38;5;124m\"\u001b[39m: row[\u001b[38;5;124m'\u001b[39m\u001b[38;5;124mweight\u001b[39m\u001b[38;5;124m'\u001b[39m]})\n\u001b[0;32m     11\u001b[0m             )\n\u001b[0;32m     12\u001b[0m     \u001b[38;5;28;01mreturn\u001b[39;00m FeatureCollection(features)\n\u001b[1;32m---> 14\u001b[0m geojson_data \u001b[38;5;241m=\u001b[39m \u001b[43mdf_to_geojson\u001b[49m\u001b[43m(\u001b[49m\u001b[43mdf_weights\u001b[49m\u001b[43m)\u001b[49m\n\u001b[0;32m     16\u001b[0m \u001b[38;5;66;03m# Save to a GeoJSON file\u001b[39;00m\n\u001b[0;32m     17\u001b[0m \u001b[38;5;28;01mwith\u001b[39;00m \u001b[38;5;28mopen\u001b[39m(\u001b[38;5;124m'\u001b[39m\u001b[38;5;124mcrimes.geojson\u001b[39m\u001b[38;5;124m'\u001b[39m, \u001b[38;5;124m'\u001b[39m\u001b[38;5;124mw\u001b[39m\u001b[38;5;124m'\u001b[39m) \u001b[38;5;28;01mas\u001b[39;00m f:\n",
      "Cell \u001b[1;32mIn[60], line 6\u001b[0m, in \u001b[0;36mdf_to_geojson\u001b[1;34m(df)\u001b[0m\n\u001b[0;32m      4\u001b[0m \u001b[38;5;28;01mdef\u001b[39;00m \u001b[38;5;21mdf_to_geojson\u001b[39m(df):\n\u001b[0;32m      5\u001b[0m     features \u001b[38;5;241m=\u001b[39m []\n\u001b[1;32m----> 6\u001b[0m \u001b[43m    \u001b[49m\u001b[38;5;28;43;01mfor\u001b[39;49;00m\u001b[43m \u001b[49m\u001b[43m_\u001b[49m\u001b[43m,\u001b[49m\u001b[43m \u001b[49m\u001b[43mrow\u001b[49m\u001b[43m \u001b[49m\u001b[38;5;129;43;01min\u001b[39;49;00m\u001b[43m \u001b[49m\u001b[43mdf\u001b[49m\u001b[38;5;241;43m.\u001b[39;49m\u001b[43miterrows\u001b[49m\u001b[43m(\u001b[49m\u001b[43m)\u001b[49m\u001b[43m:\u001b[49m\n\u001b[0;32m      7\u001b[0m \u001b[43m        \u001b[49m\u001b[38;5;28;43;01mif\u001b[39;49;00m\u001b[43m \u001b[49m\u001b[38;5;129;43;01mnot\u001b[39;49;00m\u001b[43m \u001b[49m\u001b[43mpd\u001b[49m\u001b[38;5;241;43m.\u001b[39;49m\u001b[43misna\u001b[49m\u001b[43m(\u001b[49m\u001b[43mrow\u001b[49m\u001b[43m[\u001b[49m\u001b[38;5;124;43m'\u001b[39;49m\u001b[38;5;124;43mlatitud\u001b[39;49m\u001b[38;5;124;43m'\u001b[39;49m\u001b[43m]\u001b[49m\u001b[43m)\u001b[49m\u001b[43m \u001b[49m\u001b[38;5;129;43;01mand\u001b[39;49;00m\u001b[43m \u001b[49m\u001b[38;5;129;43;01mnot\u001b[39;49;00m\u001b[43m \u001b[49m\u001b[43mpd\u001b[49m\u001b[38;5;241;43m.\u001b[39;49m\u001b[43misna\u001b[49m\u001b[43m(\u001b[49m\u001b[43mrow\u001b[49m\u001b[43m[\u001b[49m\u001b[38;5;124;43m'\u001b[39;49m\u001b[38;5;124;43mlongitud\u001b[39;49m\u001b[38;5;124;43m'\u001b[39;49m\u001b[43m]\u001b[49m\u001b[43m)\u001b[49m\u001b[43m:\u001b[49m\n\u001b[0;32m      8\u001b[0m \u001b[43m            \u001b[49m\u001b[43mpoint\u001b[49m\u001b[43m \u001b[49m\u001b[38;5;241;43m=\u001b[39;49m\u001b[43m \u001b[49m\u001b[43mPoint\u001b[49m\u001b[43m(\u001b[49m\u001b[43m(\u001b[49m\u001b[43mrow\u001b[49m\u001b[43m[\u001b[49m\u001b[38;5;124;43m'\u001b[39;49m\u001b[38;5;124;43mlongitud\u001b[39;49m\u001b[38;5;124;43m'\u001b[39;49m\u001b[43m]\u001b[49m\u001b[43m,\u001b[49m\u001b[43m \u001b[49m\u001b[43mrow\u001b[49m\u001b[43m[\u001b[49m\u001b[38;5;124;43m'\u001b[39;49m\u001b[38;5;124;43mlatitud\u001b[39;49m\u001b[38;5;124;43m'\u001b[39;49m\u001b[43m]\u001b[49m\u001b[43m)\u001b[49m\u001b[43m)\u001b[49m\n",
      "File \u001b[1;32m~\\AppData\\Local\\Packages\\PythonSoftwareFoundation.Python.3.12_qbz5n2kfra8p0\\LocalCache\\local-packages\\Python312\\site-packages\\pandas\\core\\frame.py:1450\u001b[0m, in \u001b[0;36mDataFrame.iterrows\u001b[1;34m(self)\u001b[0m\n\u001b[0;32m   1448\u001b[0m using_cow \u001b[38;5;241m=\u001b[39m using_copy_on_write()\n\u001b[0;32m   1449\u001b[0m \u001b[38;5;28;01mfor\u001b[39;00m k, v \u001b[38;5;129;01min\u001b[39;00m \u001b[38;5;28mzip\u001b[39m(\u001b[38;5;28mself\u001b[39m\u001b[38;5;241m.\u001b[39mindex, \u001b[38;5;28mself\u001b[39m\u001b[38;5;241m.\u001b[39mvalues):\n\u001b[1;32m-> 1450\u001b[0m     s \u001b[38;5;241m=\u001b[39m \u001b[43mklass\u001b[49m\u001b[43m(\u001b[49m\u001b[43mv\u001b[49m\u001b[43m,\u001b[49m\u001b[43m \u001b[49m\u001b[43mindex\u001b[49m\u001b[38;5;241;43m=\u001b[39;49m\u001b[43mcolumns\u001b[49m\u001b[43m,\u001b[49m\u001b[43m \u001b[49m\u001b[43mname\u001b[49m\u001b[38;5;241;43m=\u001b[39;49m\u001b[43mk\u001b[49m\u001b[43m)\u001b[49m\u001b[38;5;241;43m.\u001b[39;49m\u001b[43m__finalize__\u001b[49m\u001b[43m(\u001b[49m\u001b[38;5;28;43mself\u001b[39;49m\u001b[43m)\u001b[49m\n\u001b[0;32m   1451\u001b[0m     \u001b[38;5;28;01mif\u001b[39;00m using_cow \u001b[38;5;129;01mand\u001b[39;00m \u001b[38;5;28mself\u001b[39m\u001b[38;5;241m.\u001b[39m_mgr\u001b[38;5;241m.\u001b[39mis_single_block:\n\u001b[0;32m   1452\u001b[0m         s\u001b[38;5;241m.\u001b[39m_mgr\u001b[38;5;241m.\u001b[39madd_references(\u001b[38;5;28mself\u001b[39m\u001b[38;5;241m.\u001b[39m_mgr)  \u001b[38;5;66;03m# type: ignore[arg-type]\u001b[39;00m\n",
      "File \u001b[1;32m~\\AppData\\Local\\Packages\\PythonSoftwareFoundation.Python.3.12_qbz5n2kfra8p0\\LocalCache\\local-packages\\Python312\\site-packages\\pandas\\core\\generic.py:6169\u001b[0m, in \u001b[0;36mNDFrame.__finalize__\u001b[1;34m(self, other, method, **kwargs)\u001b[0m\n\u001b[0;32m   6166\u001b[0m \u001b[38;5;28;01mfor\u001b[39;00m name \u001b[38;5;129;01min\u001b[39;00m other\u001b[38;5;241m.\u001b[39mattrs:\n\u001b[0;32m   6167\u001b[0m     \u001b[38;5;28mself\u001b[39m\u001b[38;5;241m.\u001b[39mattrs[name] \u001b[38;5;241m=\u001b[39m other\u001b[38;5;241m.\u001b[39mattrs[name]\n\u001b[1;32m-> 6169\u001b[0m \u001b[38;5;28mself\u001b[39m\u001b[38;5;241m.\u001b[39mflags\u001b[38;5;241m.\u001b[39mallows_duplicate_labels \u001b[38;5;241m=\u001b[39m \u001b[43mother\u001b[49m\u001b[38;5;241;43m.\u001b[39;49m\u001b[43mflags\u001b[49m\u001b[38;5;241;43m.\u001b[39;49m\u001b[43mallows_duplicate_labels\u001b[49m\n\u001b[0;32m   6170\u001b[0m \u001b[38;5;66;03m# For subclasses using _metadata.\u001b[39;00m\n\u001b[0;32m   6171\u001b[0m \u001b[38;5;28;01mfor\u001b[39;00m name \u001b[38;5;129;01min\u001b[39;00m \u001b[38;5;28mset\u001b[39m(\u001b[38;5;28mself\u001b[39m\u001b[38;5;241m.\u001b[39m_metadata) \u001b[38;5;241m&\u001b[39m \u001b[38;5;28mset\u001b[39m(other\u001b[38;5;241m.\u001b[39m_metadata):\n",
      "File \u001b[1;32m~\\AppData\\Local\\Packages\\PythonSoftwareFoundation.Python.3.12_qbz5n2kfra8p0\\LocalCache\\local-packages\\Python312\\site-packages\\pandas\\core\\flags.py:57\u001b[0m, in \u001b[0;36mFlags.allows_duplicate_labels\u001b[1;34m(self)\u001b[0m\n\u001b[0;32m     54\u001b[0m     \u001b[38;5;28mself\u001b[39m\u001b[38;5;241m.\u001b[39m_allows_duplicate_labels \u001b[38;5;241m=\u001b[39m allows_duplicate_labels\n\u001b[0;32m     55\u001b[0m     \u001b[38;5;28mself\u001b[39m\u001b[38;5;241m.\u001b[39m_obj \u001b[38;5;241m=\u001b[39m weakref\u001b[38;5;241m.\u001b[39mref(obj)\n\u001b[1;32m---> 57\u001b[0m \u001b[38;5;129m@property\u001b[39m\n\u001b[0;32m     58\u001b[0m \u001b[38;5;28;01mdef\u001b[39;00m \u001b[38;5;21mallows_duplicate_labels\u001b[39m(\u001b[38;5;28mself\u001b[39m) \u001b[38;5;241m-\u001b[39m\u001b[38;5;241m>\u001b[39m \u001b[38;5;28mbool\u001b[39m:\n\u001b[0;32m     59\u001b[0m \u001b[38;5;250m    \u001b[39m\u001b[38;5;124;03m\"\"\"\u001b[39;00m\n\u001b[0;32m     60\u001b[0m \u001b[38;5;124;03m    Whether this object allows duplicate labels.\u001b[39;00m\n\u001b[0;32m     61\u001b[0m \n\u001b[1;32m   (...)\u001b[0m\n\u001b[0;32m     85\u001b[0m \u001b[38;5;124;03m    a        [0, 1]\u001b[39;00m\n\u001b[0;32m     86\u001b[0m \u001b[38;5;124;03m    \"\"\"\u001b[39;00m\n\u001b[0;32m     87\u001b[0m     \u001b[38;5;28;01mreturn\u001b[39;00m \u001b[38;5;28mself\u001b[39m\u001b[38;5;241m.\u001b[39m_allows_duplicate_labels\n",
      "\u001b[1;31mKeyboardInterrupt\u001b[0m: "
     ]
    }
   ],
   "source": [
    "import geojson\n",
    "from geojson import Feature, FeatureCollection, Point\n",
    "\n",
    "def df_to_geojson(df):\n",
    "    features = []\n",
    "    for _, row in df.iterrows():\n",
    "        if not pd.isna(row['latitud']) and not pd.isna(row['longitud']):\n",
    "            point = Point((row['longitud'], row['latitud']))\n",
    "            features.append(\n",
    "                Feature(geometry=point, properties={\"weight\": row['weight']})\n",
    "            )\n",
    "    return FeatureCollection(features)\n",
    "\n",
    "geojson_data = df_to_geojson(df_weights)\n",
    "\n",
    "# Save to a GeoJSON file\n",
    "with open('crimes.geojson', 'w') as f:\n",
    "    geojson.dump(geojson_data, f)"
   ]
  },
  {
   "cell_type": "code",
   "execution_count": 66,
   "metadata": {},
   "outputs": [],
   "source": [
    "def filter_geojson_by_coordinates(geojson_data, lat_min, lat_max, lon_min, lon_max):\n",
    "    filtered_features = []\n",
    "    for feature in geojson_data['features']:\n",
    "        lon, lat = feature['geometry']['coordinates']\n",
    "        if lat_min <= lat <= lat_max and lon_min <= lon <= lon_max:\n",
    "            filtered_features.append(feature)\n",
    "    \n",
    "    return geojson.FeatureCollection(filtered_features)\n",
    "\n",
    "# Example usage\n",
    "lat_min, lat_max = 19.0, 20.0\n",
    "lon_min, lon_max = -100.0, -98.0\n",
    "filtered_geojson_data = filter_geojson_by_coordinates(geojson_data, lat_min, lat_max, lon_min, lon_max)\n",
    "\n",
    "# Save the filtered GeoJSON to a new file\n",
    "with open('filtered_crimes.geojson', 'w') as f:\n",
    "    geojson.dump(filtered_geojson_data, f)"
   ]
  },
  {
   "cell_type": "code",
   "execution_count": 68,
   "metadata": {},
   "outputs": [
    {
     "data": {
      "text/plain": [
       "<folium.features.GeoJson at 0x267f876a480>"
      ]
     },
     "execution_count": 68,
     "metadata": {},
     "output_type": "execute_result"
    }
   ],
   "source": [
    "import folium\n",
    "\n",
    "# Crear un mapa centrado en el área filtrada\n",
    "center_lat = (lat_min + lat_max) / 2\n",
    "center_lon = (lon_min + lon_max) / 2\n",
    "m = folium.Map(location=[center_lat, center_lon], zoom_start=10)\n",
    "\n",
    "# Añadir el archivo GeoJSON al mapa\n",
    "folium.GeoJson('filtered_crimes.geojson').add_to(m)\n",
    "\n",
    "# Mostrar el mapa\n"
   ]
  },
  {
   "cell_type": "code",
   "execution_count": null,
   "metadata": {},
   "outputs": [],
   "source": [
    "import folium\n",
    "\n",
    "def visualize_map(df):\n",
    "    # Create a map centered around the average latitude and longitude\n",
    "    m = folium.Map(location=[df['latitud'].mean(), df['longitud'].mean()], zoom_start=12)\n",
    "    \n",
    "    # Add points to the map\n",
    "    for _, row in df.iterrows():\n",
    "        if not pd.isna(row['latitud']) and not pd.isna(row['longitud']):\n",
    "            folium.Marker(\n",
    "                location=[row['latitud'], row['longitud']],\n",
    "                popup=row['delito'],\n",
    "                tooltip=row['categoria_delito']\n",
    "            ).add_to(m)\n",
    "    \n",
    "    return m\n",
    "\n",
    "# Example usage\n",
    "map_visualization = visualize_map(df_crims)\n",
    "map_visualization"
   ]
  }
 ],
 "metadata": {
  "kernelspec": {
   "display_name": "Python 3",
   "language": "python",
   "name": "python3"
  },
  "language_info": {
   "codemirror_mode": {
    "name": "ipython",
    "version": 3
   },
   "file_extension": ".py",
   "mimetype": "text/x-python",
   "name": "python",
   "nbconvert_exporter": "python",
   "pygments_lexer": "ipython3",
   "version": "3.12.9"
  }
 },
 "nbformat": 4,
 "nbformat_minor": 2
}
