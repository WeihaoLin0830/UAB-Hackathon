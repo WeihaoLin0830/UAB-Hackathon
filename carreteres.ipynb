{
 "cells": [
  {
   "cell_type": "code",
   "execution_count": 63,
   "metadata": {},
   "outputs": [
    {
     "name": "stderr",
     "output_type": "stream",
     "text": [
      "C:\\Users\\11ser\\AppData\\Local\\Packages\\PythonSoftwareFoundation.Python.3.12_qbz5n2kfra8p0\\LocalCache\\local-packages\\Python312\\site-packages\\sklearn\\base.py:1389: ConvergenceWarning: Number of distinct clusters (1) found smaller than n_clusters (6). Possibly due to duplicate points in X.\n",
      "  return fit_method(estimator, *args, **kwargs)\n"
     ]
    },
    {
     "data": {
      "text/plain": [
       "time_zones\n",
       "0    127555\n",
       "Name: count, dtype: int64"
      ]
     },
     "metadata": {},
     "output_type": "display_data"
    },
    {
     "data": {
      "text/plain": [
       "time_zones\n",
       "mañana    127555\n",
       "Name: count, dtype: int64"
      ]
     },
     "metadata": {},
     "output_type": "display_data"
    },
    {
     "data": {
      "text/html": [
       "<div>\n",
       "<style scoped>\n",
       "    .dataframe tbody tr th:only-of-type {\n",
       "        vertical-align: middle;\n",
       "    }\n",
       "\n",
       "    .dataframe tbody tr th {\n",
       "        vertical-align: top;\n",
       "    }\n",
       "\n",
       "    .dataframe thead th {\n",
       "        text-align: right;\n",
       "    }\n",
       "</style>\n",
       "<table border=\"1\" class=\"dataframe\">\n",
       "  <thead>\n",
       "    <tr style=\"text-align: right;\">\n",
       "      <th></th>\n",
       "      <th>anio_inicio</th>\n",
       "      <th>mes_inicio</th>\n",
       "      <th>fecha_inicio</th>\n",
       "      <th>hora_inicio</th>\n",
       "      <th>anio_hecho</th>\n",
       "      <th>mes_hecho</th>\n",
       "      <th>fecha_hecho</th>\n",
       "      <th>hora_hecho</th>\n",
       "      <th>delito</th>\n",
       "      <th>categoria_delito</th>\n",
       "      <th>...</th>\n",
       "      <th>agencia</th>\n",
       "      <th>unidad_investigacion</th>\n",
       "      <th>colonia_hecho</th>\n",
       "      <th>colonia_catalogo</th>\n",
       "      <th>alcaldia_hecho</th>\n",
       "      <th>alcaldia_catalogo</th>\n",
       "      <th>municipio_hecho</th>\n",
       "      <th>latitud</th>\n",
       "      <th>longitud</th>\n",
       "      <th>time_zones</th>\n",
       "    </tr>\n",
       "  </thead>\n",
       "  <tbody>\n",
       "    <tr>\n",
       "      <th>0</th>\n",
       "      <td>2024</td>\n",
       "      <td>Enero</td>\n",
       "      <td>2024-01-01</td>\n",
       "      <td>00:20:00</td>\n",
       "      <td>2024.0</td>\n",
       "      <td>Enero</td>\n",
       "      <td>2024-01-01</td>\n",
       "      <td>0.0</td>\n",
       "      <td>PERDIDA DE LA VIDA POR OTRAS CAUSAS</td>\n",
       "      <td>HECHO NO DELICTIVO</td>\n",
       "      <td>...</td>\n",
       "      <td>UAT-TLP-3</td>\n",
       "      <td>UI-1SD</td>\n",
       "      <td>SAN MIGUEL TOPILEJO</td>\n",
       "      <td>Pueblo San Miguel Topilejo</td>\n",
       "      <td>TLALPAN</td>\n",
       "      <td>Tlalpan</td>\n",
       "      <td>CDMX</td>\n",
       "      <td>19.198611</td>\n",
       "      <td>-99.140064</td>\n",
       "      <td>mañana</td>\n",
       "    </tr>\n",
       "    <tr>\n",
       "      <th>1</th>\n",
       "      <td>2024</td>\n",
       "      <td>Enero</td>\n",
       "      <td>2024-01-01</td>\n",
       "      <td>01:12:00</td>\n",
       "      <td>2023.0</td>\n",
       "      <td>Diciembre</td>\n",
       "      <td>2023-12-28</td>\n",
       "      <td>0.0</td>\n",
       "      <td>HOMICIDIO CULPOSO POR TRÁNSITO VEHICULAR (COLI...</td>\n",
       "      <td>DELITO DE BAJO IMPACTO</td>\n",
       "      <td>...</td>\n",
       "      <td>UAT-AZ-4</td>\n",
       "      <td>UI-2SD</td>\n",
       "      <td>AERONÁUTICA MILITAR</td>\n",
       "      <td>Aeronautica Militar</td>\n",
       "      <td>VENUSTIANO CARRANZA</td>\n",
       "      <td>Venustiano Carranza</td>\n",
       "      <td>CDMX</td>\n",
       "      <td>19.420629</td>\n",
       "      <td>-99.115402</td>\n",
       "      <td>mañana</td>\n",
       "    </tr>\n",
       "    <tr>\n",
       "      <th>2</th>\n",
       "      <td>2024</td>\n",
       "      <td>Enero</td>\n",
       "      <td>2024-01-01</td>\n",
       "      <td>01:14:00</td>\n",
       "      <td>2023.0</td>\n",
       "      <td>Diciembre</td>\n",
       "      <td>2023-12-31</td>\n",
       "      <td>0.0</td>\n",
       "      <td>PERDIDA DE LA VIDA POR CAIDA</td>\n",
       "      <td>HECHO NO DELICTIVO</td>\n",
       "      <td>...</td>\n",
       "      <td>UAT-IZP-5</td>\n",
       "      <td>1 SIN DETENIDO</td>\n",
       "      <td>OJITO DE AGUA</td>\n",
       "      <td>Pueblo Santa Maria Aztahuacan</td>\n",
       "      <td>IZTAPALAPA</td>\n",
       "      <td>Iztapalapa</td>\n",
       "      <td>CDMX</td>\n",
       "      <td>19.347257</td>\n",
       "      <td>-99.024526</td>\n",
       "      <td>mañana</td>\n",
       "    </tr>\n",
       "    <tr>\n",
       "      <th>3</th>\n",
       "      <td>2024</td>\n",
       "      <td>Enero</td>\n",
       "      <td>2024-01-01</td>\n",
       "      <td>02:29:00</td>\n",
       "      <td>2023.0</td>\n",
       "      <td>Diciembre</td>\n",
       "      <td>2023-12-31</td>\n",
       "      <td>0.0</td>\n",
       "      <td>ROBO EN EVENTOS MASIVOS (DEPORTIVOS, CULTURALE...</td>\n",
       "      <td>DELITO DE BAJO IMPACTO</td>\n",
       "      <td>...</td>\n",
       "      <td>UAT-CUH-6</td>\n",
       "      <td>UI-1SD</td>\n",
       "      <td>CENTRO</td>\n",
       "      <td>Centro</td>\n",
       "      <td>CUAUHTEMOC</td>\n",
       "      <td>Cuauhtémoc</td>\n",
       "      <td>CDMX</td>\n",
       "      <td>19.434052</td>\n",
       "      <td>-99.134837</td>\n",
       "      <td>mañana</td>\n",
       "    </tr>\n",
       "    <tr>\n",
       "      <th>4</th>\n",
       "      <td>2024</td>\n",
       "      <td>Enero</td>\n",
       "      <td>2024-01-01</td>\n",
       "      <td>03:26:00</td>\n",
       "      <td>2024.0</td>\n",
       "      <td>Enero</td>\n",
       "      <td>2024-01-01</td>\n",
       "      <td>0.0</td>\n",
       "      <td>PERDIDA DE LA VIDA POR PARO CARDIACO</td>\n",
       "      <td>HECHO NO DELICTIVO</td>\n",
       "      <td>...</td>\n",
       "      <td>UAT-MC-2</td>\n",
       "      <td>UI-1SD</td>\n",
       "      <td>LOMAS DE SAN BERNABÉ</td>\n",
       "      <td>Lomas De San Bernabe</td>\n",
       "      <td>LA MAGDALENA CONTRERAS</td>\n",
       "      <td>La Magdalena Contreras</td>\n",
       "      <td>CDMX</td>\n",
       "      <td>19.314159</td>\n",
       "      <td>-99.263989</td>\n",
       "      <td>mañana</td>\n",
       "    </tr>\n",
       "  </tbody>\n",
       "</table>\n",
       "<p>5 rows × 22 columns</p>\n",
       "</div>"
      ],
      "text/plain": [
       "   anio_inicio mes_inicio fecha_inicio hora_inicio  anio_hecho  mes_hecho  \\\n",
       "0         2024      Enero   2024-01-01    00:20:00      2024.0      Enero   \n",
       "1         2024      Enero   2024-01-01    01:12:00      2023.0  Diciembre   \n",
       "2         2024      Enero   2024-01-01    01:14:00      2023.0  Diciembre   \n",
       "3         2024      Enero   2024-01-01    02:29:00      2023.0  Diciembre   \n",
       "4         2024      Enero   2024-01-01    03:26:00      2024.0      Enero   \n",
       "\n",
       "  fecha_hecho  hora_hecho                                             delito  \\\n",
       "0  2024-01-01         0.0                PERDIDA DE LA VIDA POR OTRAS CAUSAS   \n",
       "1  2023-12-28         0.0  HOMICIDIO CULPOSO POR TRÁNSITO VEHICULAR (COLI...   \n",
       "2  2023-12-31         0.0                       PERDIDA DE LA VIDA POR CAIDA   \n",
       "3  2023-12-31         0.0  ROBO EN EVENTOS MASIVOS (DEPORTIVOS, CULTURALE...   \n",
       "4  2024-01-01         0.0               PERDIDA DE LA VIDA POR PARO CARDIACO   \n",
       "\n",
       "         categoria_delito  ...    agencia unidad_investigacion  \\\n",
       "0      HECHO NO DELICTIVO  ...  UAT-TLP-3               UI-1SD   \n",
       "1  DELITO DE BAJO IMPACTO  ...   UAT-AZ-4               UI-2SD   \n",
       "2      HECHO NO DELICTIVO  ...  UAT-IZP-5       1 SIN DETENIDO   \n",
       "3  DELITO DE BAJO IMPACTO  ...  UAT-CUH-6               UI-1SD   \n",
       "4      HECHO NO DELICTIVO  ...   UAT-MC-2               UI-1SD   \n",
       "\n",
       "          colonia_hecho               colonia_catalogo  \\\n",
       "0   SAN MIGUEL TOPILEJO     Pueblo San Miguel Topilejo   \n",
       "1   AERONÁUTICA MILITAR            Aeronautica Militar   \n",
       "2         OJITO DE AGUA  Pueblo Santa Maria Aztahuacan   \n",
       "3                CENTRO                         Centro   \n",
       "4  LOMAS DE SAN BERNABÉ           Lomas De San Bernabe   \n",
       "\n",
       "           alcaldia_hecho       alcaldia_catalogo municipio_hecho    latitud  \\\n",
       "0                 TLALPAN                 Tlalpan            CDMX  19.198611   \n",
       "1     VENUSTIANO CARRANZA     Venustiano Carranza            CDMX  19.420629   \n",
       "2              IZTAPALAPA              Iztapalapa            CDMX  19.347257   \n",
       "3              CUAUHTEMOC              Cuauhtémoc            CDMX  19.434052   \n",
       "4  LA MAGDALENA CONTRERAS  La Magdalena Contreras            CDMX  19.314159   \n",
       "\n",
       "    longitud  time_zones  \n",
       "0 -99.140064      mañana  \n",
       "1 -99.115402      mañana  \n",
       "2 -99.024526      mañana  \n",
       "3 -99.134837      mañana  \n",
       "4 -99.263989      mañana  \n",
       "\n",
       "[5 rows x 22 columns]"
      ]
     },
     "metadata": {},
     "output_type": "display_data"
    }
   ],
   "source": [
    "import pandas as pd\n",
    "\n",
    "df_crims = pd.read_csv('CMX_2024.csv')\n",
    "df_crims = df_crims.dropna()\n",
    "df_crims['fecha_hecho'] = pd.to_datetime(df_crims['fecha_hecho'])\n",
    "df_crims['hora_hecho'] = df_crims['fecha_hecho'].dt.hour\n",
    "df_crims['hora_hecho'] = pd.to_timedelta(df_crims['hora_hecho'])\n",
    "df_crims['hora_hecho'] = df_crims['hora_hecho'].dt.total_seconds()\n",
    "\n",
    "\n",
    "\n",
    "from sklearn.cluster import KMeans\n",
    "kmeans = KMeans(n_clusters=6)\n",
    "\n",
    "# Fit the KMeans model to the 'time_seconds' variable\n",
    "kmeans.fit(df_crims['hora_hecho'].values.reshape(-1, 1))\n",
    "\n",
    "# Get the cluster labels\n",
    "cluster_labels = kmeans.labels_\n",
    "\n",
    "# Assign the cluster labels to the dataframe\n",
    "df_crims['time_zones'] = cluster_labels\n",
    "\n",
    "display(df_crims['time_zones'].value_counts())\n",
    "# Map the cluster labels to time zones\n",
    "time_zone_mapping = {0: 'mañana', 1: 'noche', 2: 'madrugada', 3: 'mediodia', 4: 'tarde', 5: 'medianoche'}\n",
    "df_crims['time_zones'] = df_crims['time_zones'].map(time_zone_mapping)\n",
    "\n",
    "display(df_crims['time_zones'].value_counts())\n",
    "\n",
    "display(df_crims.head())"
   ]
  },
  {
   "cell_type": "code",
   "execution_count": 54,
   "metadata": {},
   "outputs": [
    {
     "data": {
      "text/plain": [
       "(124952, 22)"
      ]
     },
     "metadata": {},
     "output_type": "display_data"
    },
    {
     "data": {
      "text/plain": [
       "(41051, 22)"
      ]
     },
     "metadata": {},
     "output_type": "display_data"
    },
    {
     "data": {
      "text/plain": [
       "(41051, 22)"
      ]
     },
     "metadata": {},
     "output_type": "display_data"
    },
    {
     "data": {
      "text/plain": [
       "categoria_delito\n",
       "DELITO DE BAJO IMPACTO                                     29084\n",
       "ROBO A TRANSEUNTE EN VÍA PÚBLICA CON Y SIN VIOLENCIA        4249\n",
       "ROBO DE VEHÍCULO CON Y SIN VIOLENCIA                        3421\n",
       "VIOLACIÓN                                                   1170\n",
       "ROBO A NEGOCIO CON VIOLENCIA                                1029\n",
       "ROBO A PASAJERO A BORDO DEL METRO CON Y SIN VIOLENCIA        565\n",
       "HOMICIDIO DOLOSO                                             475\n",
       "ROBO A REPARTIDOR CON Y SIN VIOLENCIA                        372\n",
       "ROBO A PASAJERO A BORDO DE MICROBUS CON Y SIN VIOLENCIA      201\n",
       "LESIONES DOLOSAS POR DISPARO DE ARMA DE FUEGO                195\n",
       "ROBO A CASA HABITACIÓN CON VIOLENCIA                         121\n",
       "ROBO A CUENTAHABIENTE SALIENDO DEL CAJERO CON VIOLENCIA       80\n",
       "ROBO A PASAJERO A BORDO DE TAXI CON VIOLENCIA                 73\n",
       "ROBO A TRANSPORTISTA CON Y SIN VIOLENCIA                      11\n",
       "SECUESTRO                                                      5\n",
       "Name: count, dtype: int64"
      ]
     },
     "metadata": {},
     "output_type": "display_data"
    }
   ],
   "source": [
    "from datetime import datetime\n",
    "import nltk\n",
    "\n",
    "# Convert 'fecha_hecho' to datetime\n",
    "\n",
    "\n",
    "df_delict = df_crims[df_crims['categoria_delito'] != 'HECHO NO DELICTIVO']\n",
    "\n",
    "df_bajo_impacto = df_delict[df_delict['categoria_delito'] == 'DELITO DE BAJO IMPACTO']\n",
    "small_delicts = df_bajo_impacto['delito'].value_counts()\n",
    "filtered_delicts = small_delicts[small_delicts.index.str.contains('ROBO|ACOSO|HOMICICIO|PANDILLA', case=False)]\n",
    "\n",
    "display(df_delict.shape)\n",
    "# Filter out the delicts that are NOT in the filtered_delicts list\n",
    "df_delict = df_delict[~((df_delict['categoria_delito'] == 'DELITO DE BAJO IMPACTO') & (~df_delict['delito'].isin(filtered_delicts.index)))]\n",
    "display(df_delict.shape)\n",
    "\n",
    "df_delict = df_delict.dropna(subset=['latitud', 'longitud'])\n",
    "display(df_delict.shape)\n",
    "\n",
    "\n",
    "#df_crimes = df_delict[['delito', 'longitud', 'latitud']]\n",
    "\n",
    "display(df_delict['categoria_delito'].value_counts())"
   ]
  },
  {
   "cell_type": "code",
   "execution_count": 55,
   "metadata": {},
   "outputs": [
    {
     "data": {
      "text/plain": [
       "weight\n",
       "1.0    29285\n",
       "3.0     5924\n",
       "2.0     3997\n",
       "4.0     1365\n",
       "5.0      480\n",
       "Name: count, dtype: int64"
      ]
     },
     "metadata": {},
     "output_type": "display_data"
    }
   ],
   "source": [
    "crime_category_to_weight = {\n",
    "    'DELITO DE BAJO IMPACTO': 1,\n",
    "    'ROBO A TRANSEUNTE EN VÍA PÚBLICA CON Y SIN VIOLENCIA': 3,\n",
    "    'ROBO DE VEHÍCULO CON Y SIN VIOLENCIA': 2,\n",
    "    'ROBO A NEGOCIO CON VIOLENCIA': 3,\n",
    "    'VIOLACIÓN': 4,\n",
    "    'ROBO A PASAJERO A BORDO DEL METRO CON Y SIN VIOLENCIA': 2,\n",
    "    'HOMICIDIO DOLOSO': 5,\n",
    "    'ROBO A REPARTIDOR CON Y SIN VIOLENCIA': 3,\n",
    "    'ROBO A PASAJERO A BORDO DE MICROBÚS CON Y SIN VIOLENCIA': 2,\n",
    "    'LESIONES DOLOSAS POR DISPARO DE ARMA DE FUEGO': 4,\n",
    "    'ROBO A CASA HABITACIÓN CON VIOLENCIA': 3,\n",
    "    'ROBO A CUENTAHABIENTE SALIENDO DEL CAJERO CON VIOLENCIA': 3,\n",
    "    'ROBO A PASAJERO A BORDO DE TAXI CON VIOLENCIA': 3,\n",
    "    'ROBO A TRANSPORTISTA CON Y SIN VIOLENCIA': 2,\n",
    "    'SECUESTRO': 5\n",
    "}\n",
    "\n",
    "df_crimes_with_weight = df_delict.copy()\n",
    "df_crimes_with_weight['weight'] = df_crimes_with_weight['categoria_delito'].map(crime_category_to_weight)\n",
    "df_crimes_with_weight['weight'] = df_crimes_with_weight['weight'].fillna(1)\n",
    "\n",
    "display(df_crimes_with_weight['weight'].value_counts())"
   ]
  },
  {
   "cell_type": "code",
   "execution_count": 56,
   "metadata": {},
   "outputs": [
    {
     "data": {
      "text/plain": [
       "weight\n",
       "1.0    26385\n",
       "3.5     4943\n",
       "2.0     3259\n",
       "1.5     2900\n",
       "4.0     1332\n",
       "3.0      981\n",
       "2.5      738\n",
       "5.0      480\n",
       "4.5       33\n",
       "Name: count, dtype: int64"
      ]
     },
     "metadata": {},
     "output_type": "display_data"
    }
   ],
   "source": [
    "df_ponderado = df_crimes_with_weight[['delito', 'categoria_delito', 'longitud', 'latitud', 'weight', 'hora_hecho']]\n",
    "df_ponderado.loc[df_ponderado['delito'].str.contains('CON', case=True), 'weight'] += 0.5\n",
    "\n",
    "df_weights = df_ponderado[['latitud','longitud','weight','hora_hecho']]\n",
    "display(df_weights['weight'].value_counts())"
   ]
  },
  {
   "cell_type": "code",
   "execution_count": 57,
   "metadata": {},
   "outputs": [],
   "source": [
    "import geojson\n",
    "from geojson import Feature, FeatureCollection, Point\n",
    "\n",
    "def df_to_geojson(df):\n",
    "    features = []\n",
    "    for _, row in df.iterrows():\n",
    "        if not pd.isna(row['latitud']) and not pd.isna(row['longitud']):\n",
    "            point = Point((row['longitud'], row['latitud']))\n",
    "            features.append(\n",
    "                Feature(geometry=point, properties={\"weight\": row['weight'], \"hora_hecho\": row['hora_hecho']})\n",
    "            )\n",
    "    return FeatureCollection(features)\n",
    "\n",
    "geojson_data = df_to_geojson(df_weights)\n",
    "\n",
    "# Save to a GeoJSON file\n",
    "with open('crimes.geojson', 'w') as f:\n",
    "    geojson.dump(geojson_data, f)"
   ]
  },
  {
   "cell_type": "code",
   "execution_count": 20,
   "metadata": {},
   "outputs": [],
   "source": [
    "def filter_geojson_by_coordinates(geojson_data, lat_min, lat_max, lon_min, lon_max):\n",
    "    filtered_features = []\n",
    "    for feature in geojson_data['features']:\n",
    "        lon, lat = feature['geometry']['coordinates']\n",
    "        if lat_min <= lat <= lat_max and lon_min <= lon <= lon_max:\n",
    "            filtered_features.append(feature)\n",
    "    \n",
    "    return geojson.FeatureCollection(filtered_features)\n",
    "\n",
    "# Example usage\n",
    "lat_min, lat_max = 19.0, 20.0\n",
    "lon_min, lon_max = -100.0, -98.0\n",
    "filtered_geojson_data = filter_geojson_by_coordinates(geojson_data, lat_min, lat_max, lon_min, lon_max)\n",
    "\n",
    "# Save the filtered GeoJSON to a new file\n",
    "with open('filtered_crimes.geojson', 'w') as f:\n",
    "    geojson.dump(filtered_geojson_data, f)"
   ]
  },
  {
   "cell_type": "code",
   "execution_count": 21,
   "metadata": {},
   "outputs": [
    {
     "data": {
      "text/plain": [
       "<folium.features.GeoJson at 0x7fbcb170ebc0>"
      ]
     },
     "execution_count": 21,
     "metadata": {},
     "output_type": "execute_result"
    }
   ],
   "source": [
    "import folium\n",
    "\n",
    "# Crear un mapa centrado en el área filtrada\n",
    "center_lat = (lat_min + lat_max) / 2\n",
    "center_lon = (lon_min + lon_max) / 2\n",
    "m = folium.Map(location=[center_lat, center_lon], zoom_start=10)\n",
    "\n",
    "# Añadir el archivo GeoJSON al mapa\n",
    "folium.GeoJson('filtered_crimes.geojson').add_to(m)\n",
    "\n",
    "# Mostrar el mapa\n"
   ]
  },
  {
   "cell_type": "code",
   "execution_count": 22,
   "metadata": {},
   "outputs": [],
   "source": [
    "import folium\n",
    "\n",
    "def visualize_map(df):\n",
    "    # Create a map centered around the average latitude and longitude\n",
    "    m = folium.Map(location=[df['latitud'].mean(), df['longitud'].mean()], zoom_start=12)\n",
    "    \n",
    "    # Add points to the map\n",
    "    for _, row in df.iterrows():\n",
    "        if not pd.isna(row['latitud']) and not pd.isna(row['longitud']):\n",
    "            folium.Marker(\n",
    "                location=[row['latitud'], row['longitud']],\n",
    "                popup=row['delito'],\n",
    "                tooltip=row['categoria_delito']\n",
    "            ).add_to(m)\n",
    "    \n",
    "    return m\n",
    "\n",
    "# Example usage\n",
    "map_visualization = visualize_map(df_crims)\n",
    "map_visualization"
   ]
  }
 ],
 "metadata": {
  "kernelspec": {
   "display_name": "Python 3",
   "language": "python",
   "name": "python3"
  },
  "language_info": {
   "codemirror_mode": {
    "name": "ipython",
    "version": 3
   },
   "file_extension": ".py",
   "mimetype": "text/x-python",
   "name": "python",
   "nbconvert_exporter": "python",
   "pygments_lexer": "ipython3",
   "version": "3.12.9"
  }
 },
 "nbformat": 4,
 "nbformat_minor": 2
}
